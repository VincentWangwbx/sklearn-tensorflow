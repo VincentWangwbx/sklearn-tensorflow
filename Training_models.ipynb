{
 "cells": [
  {
   "cell_type": "markdown",
   "metadata": {},
   "source": [
    "# Training Models\n",
    "## 1. Linear Regression\n",
    "A linear regression makes a prediction by computing a weighed sum of input features, plus a constant the bias term, or the intercept term.\n",
    "$$\\hat{y} = \\theta_0+\\theta_1 x_1 + \\theta_2 x_2 + \\cdots +\\theta_n x_n$$\n",
    "\n",
    "Or, in a vectorized form:\n",
    "$$\\hat{y} = h_{\\theta}(\\mathbf{x})=\\theta^T\\mathbf{x}$$\n",
    "Both $\\theta$ and $\\mathbf{x}$ should be a column vector, and $h_{\\theta}$ is the hypothesis function using the model parameters $\\theta$.\n",
    "\n",
    "Performance of a linear regression model could be evaluated by computing MSE, since it is easier for calculation and leads to the same result.\n",
    "$$MSE(\\mathbf{X},h_{\\theta})=\\frac{1}{m}\\sum_{i=1}^m(\\theta^T \\mathbf{x}^{(i)}-y^{(i)})^2$$\n",
    "\n",
    "### 1.1 The Normal Equation\n",
    "The closed-form solution minimizing the cost function is:\n",
    "$$\\hat{\\theta} = (\\mathbf{X}^T\\mathbf{X})^{-1}\\mathbf{X}^T \\mathbf{y}$$\n",
    "Next, use some linear-looking data to test this equation."
   ]
  },
  {
   "cell_type": "code",
   "execution_count": 1,
   "metadata": {},
   "outputs": [
    {
     "data": {
      "text/plain": [
       "Text(0, 0.5, 'y')"
      ]
     },
     "execution_count": 1,
     "metadata": {},
     "output_type": "execute_result"
    },
    {
     "data": {
      "image/png": "[encoded data removed]",
      "text/plain": [
       "<Figure size 432x288 with 1 Axes>"
      ]
     },
     "metadata": {
      "needs_background": "light"
     },
     "output_type": "display_data"
    }
   ],
   "source": [
    "import numpy as np\n",
    "import matplotlib.pyplot as plt\n",
    "%matplotlib inline\n",
    "\n",
    "X = 2*np.random.rand(100,1) #generate array of size(a,b), all values in range of [0,1]\n",
    "y = 4+3*X + np.random.randn(100,1) #generate array of size(a,b) with standard normal distribution N(0,1)\n",
    "fig,ax = plt.subplots()\n",
    "ax.scatter(X,y)\n",
    "ax.set_xlabel('x1')\n",
    "ax.set_ylabel('y')"
   ]
  },
  {
   "cell_type": "code",
   "execution_count": 2,
   "metadata": {},
   "outputs": [
    {
     "data": {
      "text/plain": [
       "array([[4.04348251],\n",
       "       [3.01879924]])"
      ]
     },
     "execution_count": 2,
     "metadata": {},
     "output_type": "execute_result"
    }
   ],
   "source": [
    "X_b = np.c_[np.ones((100,1)),X] #add x0 = 1 to all instances\n",
    "theta_best = np.linalg.inv(X_b.T.dot(X_b)).dot(X_b.T).dot(y)\n",
    "theta_best"
   ]
  },
  {
   "cell_type": "markdown",
   "metadata": {},
   "source": [
    "The actual function we used is:\n",
    "$$y = 4x_0 + 3x_1 + noise$$\n",
    "So the regression result is quite close to the expectation.\n",
    "\n",
    "Now we could use $\\hat{\\theta}$ to make predictions."
   ]
  },
  {
   "cell_type": "code",
   "execution_count": 3,
   "metadata": {},
   "outputs": [
    {
     "data": {
      "text/plain": [
       "array([[ 4.04348251],\n",
       "       [10.08108099]])"
      ]
     },
     "execution_count": 3,
     "metadata": {},
     "output_type": "execute_result"
    }
   ],
   "source": [
    "X_new = np.array([[0], [2]])\n",
    "X_new_b = np.c_[np.ones((2, 1)), X_new]\n",
    "y_predict = X_new_b.dot(theta_best)\n",
    "y_predict#should be like [[4],[10]]"
   ]
  },
  {
   "cell_type": "markdown",
   "metadata": {},
   "source": [
    "Plot the predictions."
   ]
  },
  {
   "cell_type": "code",
   "execution_count": 4,
   "metadata": {},
   "outputs": [
    {
     "data": {
      "text/plain": [
       "Text(0, 0.5, 'y')"
      ]
     },
     "execution_count": 4,
     "metadata": {},
     "output_type": "execute_result"
    },
    {
     "data": {
      "image/png": "[encoded data removed]",
      "text/plain": [
       "<Figure size 432x288 with 1 Axes>"
      ]
     },
     "metadata": {
      "needs_background": "light"
     },
     "output_type": "display_data"
    }
   ],
   "source": [
    "fig1,ax1 = plt.subplots()\n",
    "ax1.scatter(X,y,s=8)\n",
    "ax1.plot(X_new, y_predict, 'r-')\n",
    "ax1.set_xlabel('x1')\n",
    "ax1.set_ylabel('y')"
   ]
  },
  {
   "cell_type": "markdown",
   "metadata": {},
   "source": [
    "$\\hat{\\theta}$ could also be computed by sklearn."
   ]
  },
  {
   "cell_type": "code",
   "execution_count": 5,
   "metadata": {},
   "outputs": [
    {
     "name": "stdout",
     "output_type": "stream",
     "text": [
      "[4.04348251] [[3.01879924]]\n",
      "[[ 4.04348251]\n",
      " [10.08108099]]\n"
     ]
    }
   ],
   "source": [
    "from sklearn.linear_model import LinearRegression\n",
    "\n",
    "lin_reg = LinearRegression()\n",
    "lin_reg.fit(X,y)\n",
    "print(lin_reg.intercept_, lin_reg.coef_)\n",
    "print(lin_reg.predict(X_new))"
   ]
  },
  {
   "cell_type": "markdown",
   "metadata": {},
   "source": [
    "### 1.2 Computational Complexity\n",
    "The normal equation computes $\\mathbf{X}^T\\mathbf{X}$, which is an $n\\times n$ matrix. The computational complexity is typically about $O(n^{2.4})$ to $O(n^{3})$, where $n$ is the number of features.\n",
    "\n",
    "On the positive side, this equation in linear to the number of instances in the training set $O(m)$.\n",
    "\n",
    "## 2. Gradient Descent\n",
    "![gradient descent](GD.png)\n",
    "An important parameter in Gradient Descent is the size of the steps, determined by the learning rate hyperparameter. \n",
    "\n",
    "If the learning rate is too small, then the algorithm will have to go through many iterations to converge, which will take a long time. On the other hand, if the learning rate is too high, you might jump across the valley and end up on the other side, possibly even higher up than you were before. This might make the algorithm diverge, with larger and larger values, failing to find a good solution.\n",
    "\n",
    "Finally, not all cost functions look like nice regular bowls. There may be holes, ridges, plateaus, and all sorts of irregular terrains, making convergence to the minimum very difficult.\n",
    "\n",
    "Fortunately, the MSE cost function for a Linear Regression model happens to be a convex function, which means that if you pick any two points on the curve, the line segment joining them never crosses the curve. This implies that there are no local minima, just one global minimum. It is also a continuous function with a slope that never changes abruptly. These two facts have a great consequence: Gradient Descent is guaranteed to approach arbitrarily close the global minimum (if you wait long enough and if the learning rate is not too high).\n",
    "\n",
    "Scaling should always be done before training, otherwise or else it would take much longer to converge."
   ]
  },
  {
   "cell_type": "markdown",
   "metadata": {},
   "source": [
    "### 2.1 Batch Gradient Descent\n",
    "To implement Gradient Descent, you need to compute the gradient of the cost function with regards to each model parameter $\\theta_j$.\n",
    "$$\\frac{\\partial}{\\partial \\theta_j}MSE(\\theta)=\\frac{2}{m}\\sum_{i=1}^m (\\theta^T \\mathbf{x}^{(i)}-y^{(i)}) x_j^{(i)}$$\n",
    "\n",
    "Or, in a vectorized form:\n",
    "$$\\nabla_{\\theta}MSE(\\theta)=\\left( \\begin{matrix}\n",
    "\\frac{\\partial}{\\partial \\theta_0}MSE(\\theta)\\\\\n",
    "\\frac{\\partial}{\\partial \\theta_1}MSE(\\theta)\\\\\n",
    "\\vdots\\\\\n",
    "\\frac{\\partial}{\\partial \\theta_n}MSE(\\theta)\\\\\n",
    "\\end{matrix}\\right)\n",
    "=\\frac{2}{m}\\mathbf{X}^T (\\mathbf{X}\\theta - \\mathbf{y})$$\n",
    "\n",
    "Once you have the gradient vector, which points uphill, just go in the opposite direction to go downhill. This means subtracting $\\nabla_{\\theta}MSE(\\theta)$ from $\\theta$. This is where the learning rate $\\eta$ comes into play:6 multiply the gradient vector by $\\eta$ to determine the size of the downhill step.\n",
    "$$\\theta := \\theta - \\eta \\nabla_{\\theta}MSE(\\theta)$$"
   ]
  },
  {
   "cell_type": "code",
   "execution_count": 6,
   "metadata": {},
   "outputs": [
    {
     "data": {
      "text/plain": [
       "array([[4.04348251],\n",
       "       [3.01879924]])"
      ]
     },
     "execution_count": 6,
     "metadata": {},
     "output_type": "execute_result"
    }
   ],
   "source": [
    "eta = 0.1 #learning rate\n",
    "n_iterations = 1000\n",
    "m = 100\n",
    "theta = np.random.randn(2,1) #random initialization\n",
    "\n",
    "for iteration in range(n_iterations):\n",
    "    gradients = 2/m*X_b.T.dot(X_b.dot(theta) - y)\n",
    "    theta -= eta*gradients\n",
    "    \n",
    "theta"
   ]
  },
  {
   "cell_type": "markdown",
   "metadata": {},
   "source": [
    "This comes to the same answer as the normal equation, but what would happen if choosing a different $\\eta$?\n",
    "![learning rates](etas.png)\n",
    "Grid search could be used to find the best $\\eta$."
   ]
  },
  {
   "cell_type": "markdown",
   "metadata": {},
   "source": [
    "### 2.2 Stochastic Gradient Descent\n",
    "BGD uses the whole training set to compute gradients at each step, which makes it pretty slow when the dataset is large. SGD, on the opposite extreme, uses only one instance per iteration for gradient computation.\n",
    "\n",
    "SGD is much less regular than BGD. Instead of gently decreasing until it reaches the minimum, the cost function will bounce up and down, decreasing only on average. Over time it will end up very close to the minimum, but once it gets there it will continue to bounce around, never settling down. So once the algorithm stops, the final parameter values are good, but not optimal.\n",
    "![SGD](SGD.png)\n",
    "When the cost function is very irregular, this can actually help the algorithm jump out of local minima, so SGD has a better chance of finding the global minimum than BGD does.\n",
    "\n",
    "Therefore randomness is good to escape from local optima, but bad because it means that the algorithm can never settle at the minimum. One solution to this dilemma is to gradually reduce the learning rate. The steps start out large (which helps make quick progress and escape local minima), then get smaller and smaller, allowing the algorithm to settle at the global minimum. This process is called simulated annealing, because it resembles the process of annealing in metallurgy where molten metal is slowly cooled down. The function that determines the learning rate at each iteration is called the learning schedule. If the learning rate is reduced too quickly, you may get stuck in a local minimum, or even end up frozen halfway to the minimum. If the learning rate is reduced too slowly, you may jump around the minimum for a long time and end up with a suboptimal solution if you halt training too early."
   ]
  },
  {
   "cell_type": "code",
   "execution_count": 7,
   "metadata": {},
   "outputs": [
    {
     "data": {
      "text/plain": [
       "array([[3.99273548],\n",
       "       [3.04614711]])"
      ]
     },
     "execution_count": 7,
     "metadata": {},
     "output_type": "execute_result"
    }
   ],
   "source": [
    "n_epochs = 50\n",
    "t0,t1 = 5,50 #learning schedule hyperparameters\n",
    "\n",
    "def learning_schedule(t):\n",
    "    eta = t0/(t+t1)\n",
    "    return eta\n",
    "\n",
    "theta = np.random.randn(2,1)\n",
    "\n",
    "for epoch in range(n_epochs):\n",
    "    for i in range(m):\n",
    "        random_index = np.random.randint(m)\n",
    "        xi = X_b[random_index].reshape((1,-1))\n",
    "        yi = y[random_index].reshape((1,-1))\n",
    "        gradient = 2*xi.T.dot(xi.dot(theta)-yi)\n",
    "        eta = learning_schedule(epoch*m+i)\n",
    "        theta -= eta*gradient\n",
    "\n",
    "theta"
   ]
  },
  {
   "cell_type": "markdown",
   "metadata": {},
   "source": [
    "Note that since instances are picked randomly, some instances may be picked several times per epoch while others may not be picked at all. If you want to be sure that the algorithm goes through every instance at each epoch, another approach is to shuffle the training set, then go through it instance by instance, then shuffle it again, and so on. However, this generally converges more slowly."
   ]
  },
  {
   "cell_type": "code",
   "execution_count": 8,
   "metadata": {
    "scrolled": true
   },
   "outputs": [
    {
     "name": "stderr",
     "output_type": "stream",
     "text": [
      "D:\\Anaconda\\Anaconda3\\lib\\site-packages\\sklearn\\utils\\validation.py:724: DataConversionWarning: A column-vector y was passed when a 1d array was expected. Please change the shape of y to (n_samples, ), for example using ravel().\n",
      "  y = column_or_1d(y, warn=True)\n"
     ]
    },
    {
     "data": {
      "text/plain": [
       "(array([3.9980594]), array([3.0340325]))"
      ]
     },
     "execution_count": 8,
     "metadata": {},
     "output_type": "execute_result"
    }
   ],
   "source": [
    "from sklearn.linear_model import SGDRegressor\n",
    "\n",
    "sgd_reg = SGDRegressor(max_iter=50,penalty=None,eta0=0.1)\n",
    "sgd_reg.fit(X,y)\n",
    "sgd_reg.intercept_, sgd_reg.coef_"
   ]
  },
  {
   "cell_type": "markdown",
   "metadata": {},
   "source": [
    "### 2.3 Mini-batch Gradient Descent\n",
    "Mini-batch GD computes the gradients on small random sets of instances called mini-batches.\n",
    "\n",
    "#### Comparison of algorithms for Linear Regression\n",
    "![paths](comp1.png)\n",
    "![algo](comp2.png)"
   ]
  },
  {
   "cell_type": "markdown",
   "metadata": {},
   "source": [
    "## 3. Polynomial Regression\n",
    "For data that is more complex than a simple straight line, use a linear model to fit nonlinear data is still possible. A simple way to do this is to add powers of each feature as new features, then train a linear model on this extended set of features."
   ]
  },
  {
   "cell_type": "code",
   "execution_count": 9,
   "metadata": {},
   "outputs": [
    {
     "data": {
      "text/plain": [
       "Text(0, 0.5, 'y')"
      ]
     },
     "execution_count": 9,
     "metadata": {},
     "output_type": "execute_result"
    },
    {
     "data": {
      "image/png": "[encoded data removed]",
      "text/plain": [
       "<Figure size 432x288 with 1 Axes>"
      ]
     },
     "metadata": {
      "needs_background": "light"
     },
     "output_type": "display_data"
    }
   ],
   "source": [
    "m = 100\n",
    "X = 6 * np.random.rand(m, 1) - 3\n",
    "y = 0.5 * X**2 + X + 2 + np.random.randn(m, 1)\n",
    "\n",
    "fig2,ax2 = plt.subplots()\n",
    "ax2.scatter(X,y,s=8)\n",
    "ax2.set_xlabel('x1')\n",
    "ax2.set_ylabel('y')"
   ]
  },
  {
   "cell_type": "code",
   "execution_count": 10,
   "metadata": {},
   "outputs": [
    {
     "name": "stdout",
     "output_type": "stream",
     "text": [
      "[0.72140903]\n",
      "[0.72140903 0.52043098]\n"
     ]
    }
   ],
   "source": [
    "from sklearn.preprocessing import PolynomialFeatures\n",
    "\n",
    "poly_features = PolynomialFeatures(degree=2,include_bias=False)\n",
    "X_poly = poly_features.fit_transform(X)\n",
    "print(X[0])\n",
    "print(X_poly[0])"
   ]
  },
  {
   "cell_type": "code",
   "execution_count": 11,
   "metadata": {},
   "outputs": [
    {
     "data": {
      "text/plain": [
       "(array([2.1547546]), array([[3.01879924]]))"
      ]
     },
     "execution_count": 11,
     "metadata": {},
     "output_type": "execute_result"
    }
   ],
   "source": [
    "lin_reg_poly = LinearRegression()\n",
    "lin_reg_poly.fit(X_poly,y)\n",
    "lin_reg_poly.intercept_, lin_reg.coef_"
   ]
  },
  {
   "cell_type": "code",
   "execution_count": 12,
   "metadata": {},
   "outputs": [
    {
     "data": {
      "text/plain": [
       "Text(0, 0.5, 'y')"
      ]
     },
     "execution_count": 12,
     "metadata": {},
     "output_type": "execute_result"
    },
    {
     "data": {
      "image/png": "[encoded data removed]",
      "text/plain": [
       "<Figure size 432x288 with 1 Axes>"
      ]
     },
     "metadata": {
      "needs_background": "light"
     },
     "output_type": "display_data"
    }
   ],
   "source": [
    "fig3,ax3 = plt.subplots()\n",
    "ax3.scatter(X,y,s=8)\n",
    "ax3.scatter(X,[lin_reg_poly.predict(x.reshape((1,-1)))[0][0] for x in X_poly],s=8)\n",
    "ax3.set_xlabel('x1')\n",
    "ax3.set_ylabel('y')"
   ]
  },
  {
   "cell_type": "markdown",
   "metadata": {},
   "source": [
    "The estimation is:\n",
    "$$\\hat{y} = 2.00 + 1.06x + 0.54x^2$$\n",
    "which is quite close to the original function:\n",
    "$$y = 2+x+0.5x^2+noise$$"
   ]
  },
  {
   "cell_type": "markdown",
   "metadata": {},
   "source": [
    "## 4. Learning Curves\n",
    "![fitting](fitting.png)\n",
    "This high-degree Polynomial Regression model is severely overfitting the training data, while the linear model is underfitting it.\n",
    "\n",
    "In most cases, the underlying pattern of data is unknown, so we need to measure the performance of each model. One way is to use cross validation.  If a model performs well on the training data but generalizes poorly according to the cross-validation metrics, then your model is overfitting. If it performs poorly on both, then it is underfitting. This is one way to tell when a model is too simple or too complex."
   ]
  },
  {
   "cell_type": "code",
   "execution_count": 13,
   "metadata": {},
   "outputs": [
    {
     "name": "stdout",
     "output_type": "stream",
     "text": [
      "Linear Model:  [1.38631088 1.24446873 1.46409793]\n",
      "Quadratic Model:  [0.85887397 0.71155605 0.73155735]\n"
     ]
    }
   ],
   "source": [
    "from sklearn.model_selection import cross_val_score as cvs\n",
    "#mean absolute error\n",
    "print('Linear Model: ', -cvs(lin_reg, X,y,scoring='neg_mean_absolute_error',cv=3))\n",
    "print('Quadratic Model: ', -cvs(lin_reg_poly, X_poly,y,scoring='neg_mean_absolute_error',cv=3))"
   ]
  },
  {
   "cell_type": "markdown",
   "metadata": {},
   "source": [
    "Another way is to look at the learning curves: these are plots of the model’s performance on the training set and the validation set as a function of the training set size. To generate the plots, simply train the model several times on different sized subsets of the training set. "
   ]
  },
  {
   "cell_type": "code",
   "execution_count": 14,
   "metadata": {},
   "outputs": [],
   "source": [
    "from sklearn.metrics import mean_squared_error\n",
    "from sklearn.model_selection import train_test_split\n",
    "\n",
    "def plot_learning_curves(model, X, y):\n",
    "    X_train, X_val, y_train, y_val = train_test_split(X, y, test_size=0.2)\n",
    "    train_errors, val_errors = [], []\n",
    "    for m in range(1, len(X_train)):\n",
    "        model.fit(X_train[:m], y_train[:m])\n",
    "        y_train_predict = model.predict(X_train[:m])\n",
    "        y_val_predict = model.predict(X_val)\n",
    "        train_errors.append(mean_squared_error(y_train_predict, y_train[:m]))\n",
    "        val_errors.append(mean_squared_error(y_val_predict, y_val))\n",
    "    plt.plot(np.sqrt(train_errors), 'r-+', linewidth=2, label='train')\n",
    "    plt.plot(np.sqrt(val_errors), 'b-', linewidth=3, label='val')"
   ]
  },
  {
   "cell_type": "code",
   "execution_count": 15,
   "metadata": {},
   "outputs": [
    {
     "data": {
      "text/plain": [
       "Text(0, 0.5, 'RMSE')"
      ]
     },
     "execution_count": 15,
     "metadata": {},
     "output_type": "execute_result"
    },
    {
     "data": {
      "image/png": "[encoded data removed]",
      "text/plain": [
       "<Figure size 432x288 with 1 Axes>"
      ]
     },
     "metadata": {
      "needs_background": "light"
     },
     "output_type": "display_data"
    }
   ],
   "source": [
    "lin_reg = LinearRegression()\n",
    "plot_learning_curves(lin_reg, X, y)\n",
    "plt.legend(['Training Set','Validation Set'])\n",
    "plt.xlabel('Training Set Size')\n",
    "plt.ylabel('RMSE')"
   ]
  },
  {
   "cell_type": "markdown",
   "metadata": {},
   "source": [
    "This is an underfitting model. Both curves have reached a plateau; they are close and fairly high. Adding more training examples will not help in this case, a more complex model or come up with better features will help.\n",
    "\n",
    "Now let’s look at the learning curves of a 10th-degree polynomial model on the same data."
   ]
  },
  {
   "cell_type": "code",
   "execution_count": 16,
   "metadata": {},
   "outputs": [
    {
     "data": {
      "text/plain": [
       "Text(0, 0.5, 'RMSE')"
      ]
     },
     "execution_count": 16,
     "metadata": {},
     "output_type": "execute_result"
    },
    {
     "data": {
      "image/png": "[encoded data removed]",
      "text/plain": [
       "<Figure size 432x288 with 1 Axes>"
      ]
     },
     "metadata": {
      "needs_background": "light"
     },
     "output_type": "display_data"
    }
   ],
   "source": [
    "from sklearn.pipeline import Pipeline\n",
    "\n",
    "polynomial_regression = Pipeline((('poly_features',PolynomialFeatures(degree=10,include_bias=False)),\\\n",
    "                                ('lin_reg',LinearRegression())))\n",
    "\n",
    "plot_learning_curves(polynomial_regression,X,y)\n",
    "plt.ylim(0,3)\n",
    "plt.legend(['Training Set','Validation Set'])\n",
    "plt.xlabel('Training Set Size')\n",
    "plt.ylabel('RMSE')"
   ]
  },
  {
   "cell_type": "markdown",
   "metadata": {},
   "source": [
    "This is an overfitting model, the error on the training data is much lower than with the Linear Regression model. There is a gap between the curves. This means that the model performs significantly better on the training data than on the validation data, which is the hallmark of an overfitting model. However, if you used a much larger training set, the two curves would continue to get closer.\n",
    "\n",
    "## 5. Regularized Linear Models\n",
    "### 5.1 Ridge Regression\n",
    "Ridge Regression (also called Tikhonov regularization) is a regularized version of Linear Regression with a regularizaiton term of $\\alpha \\sum_{i=1}^n\\theta_i^2$ added to the cost function. This forces the learning algorithm to not only fit the data but also keep the model weights as small as possible. Note that the regularization term should only be added to the cost function during training. Once the model is trained, you want to evaluate the model’s performance using the unregularized performance measure.\n",
    "$$J(\\theta)=MSE(\\theta)+\\frac{\\alpha}{2} \\sum_{i=1}^n\\theta_i^2$$\n",
    "Note that $\\theta_0$ is not regularized. If we define $\\mathbf{w}$ as a vector of feature weights ($\\theta_1$ to $\\theta_n$), then the regularization term is simply half of square of $\\ell_2$ norm of $\\mathbf{w}$.\n",
    "\n",
    "The closed-form solution of Ridge Regression is:\n",
    "$$\\hat{\\theta} = (\\mathbf{X}^T\\mathbf{X}+\\alpha \\mathbf{A})^{-1}\\mathbf{X}^T \\mathbf{y}$$"
   ]
  },
  {
   "cell_type": "code",
   "execution_count": 17,
   "metadata": {},
   "outputs": [
    {
     "data": {
      "text/plain": [
       "array([[4.95843125]])"
      ]
     },
     "execution_count": 17,
     "metadata": {},
     "output_type": "execute_result"
    }
   ],
   "source": [
    "from sklearn.linear_model import Ridge\n",
    "#closed-form solution\n",
    "ridge_reg = Ridge(alpha=1,solver='cholesky')\n",
    "ridge_reg.fit(X,y)\n",
    "ridge_reg.predict([[1.5]])"
   ]
  },
  {
   "cell_type": "code",
   "execution_count": 18,
   "metadata": {},
   "outputs": [
    {
     "data": {
      "text/plain": [
       "array([4.94305613])"
      ]
     },
     "execution_count": 18,
     "metadata": {},
     "output_type": "execute_result"
    }
   ],
   "source": [
    "#ridge regression\n",
    "sgd_reg_l2 = SGDRegressor(penalty='l2')\n",
    "sgd_reg_l2.fit(X,y.flatten())\n",
    "sgd_reg_l2.predict([[1.5]])"
   ]
  },
  {
   "cell_type": "markdown",
   "metadata": {},
   "source": [
    "### 5.2 Lasso Regression\n",
    "The regulariztion term added to the cost function is $\\ell_1$ norm od $\\mathbf{w}$.\n",
    "$$J(\\theta)=MSE(\\theta)+\\alpha \\sum_{i=1}^n|\\theta_i|$$"
   ]
  },
  {
   "cell_type": "code",
   "execution_count": 19,
   "metadata": {},
   "outputs": [
    {
     "data": {
      "text/plain": [
       "array([4.91020435])"
      ]
     },
     "execution_count": 19,
     "metadata": {},
     "output_type": "execute_result"
    }
   ],
   "source": [
    "from sklearn.linear_model import Lasso\n",
    "\n",
    "lasso_reg = Lasso(alpha=0.1)\n",
    "lasso_reg.fit(X,y)\n",
    "lasso_reg.predict([[1.5]])"
   ]
  },
  {
   "cell_type": "code",
   "execution_count": 20,
   "metadata": {},
   "outputs": [
    {
     "data": {
      "text/plain": [
       "array([4.95084687])"
      ]
     },
     "execution_count": 20,
     "metadata": {},
     "output_type": "execute_result"
    }
   ],
   "source": [
    "sgd_reg_l1 = SGDRegressor(penalty='l1')\n",
    "sgd_reg_l1.fit(X,y.flatten())\n",
    "sgd_reg_l1.predict([[1.5]])"
   ]
  },
  {
   "cell_type": "markdown",
   "metadata": {},
   "source": [
    "### 5.3 Elastic Net\n",
    "Mixture of Lasso and Ridge Regression.\n",
    "$$J(\\theta)=MSE(\\theta)+r \\alpha \\sum_{i=1}^n|\\theta_i|+\\frac{1-r}{2}\\alpha \\sum_{i=1}^n\\theta_i^2$$\n",
    "$r$ could be used to weight two models."
   ]
  },
  {
   "cell_type": "code",
   "execution_count": 21,
   "metadata": {},
   "outputs": [
    {
     "data": {
      "text/plain": [
       "array([4.91095479])"
      ]
     },
     "execution_count": 21,
     "metadata": {},
     "output_type": "execute_result"
    }
   ],
   "source": [
    "from sklearn.linear_model import ElasticNet\n",
    "\n",
    "elastic_net = ElasticNet(alpha=0.1, l1_ratio=0.5)\n",
    "elastic_net.fit(X,y)\n",
    "elastic_net.predict([[1.5]])"
   ]
  },
  {
   "cell_type": "markdown",
   "metadata": {},
   "source": [
    "Whicn model to choose is an important problem. Ridge is a good default, but if you suspect that only a few features are actually useful, you should prefer Lasso or Elastic Net since they tend to reduce the useless features’ weights down to zero as we have discussed. In general, Elastic Net is preferred over Lasso since Lasso may behave erratically when the number of features is greater than the number of training instances or when several features are strongly correlated. \n",
    "\n",
    "### 5.4 Early Stopping\n",
    "A very different way to regularize iterative learning algorithms such as Gradient Descent is to stop training as soon as the validation error reaches a minimum.\n",
    "![early_stop](earlystop.png)"
   ]
  },
  {
   "attachments": {},
   "cell_type": "markdown",
   "metadata": {},
   "source": [
    "## 6. Logistic Regression\n",
    "Logistic Regression is commonly used to estimate the probability that an instance belongs to a particular class.\n",
    "\n",
    "### 6.1 Estimating Probabilities\n",
    "$$\\hat{p}=h_{\\theta}(\\mathbf{x})=\\sigma(\\theta^T\\mathbf{x})$$\n",
    "Where $\\sigma()$ is the sigmoid function:\n",
    "$$\\sigma(t)=\\frac{1}{1+e^{-t}}$$\n",
    "![sigmoid function](sigma.png)\n",
    "Prediction could be given by:\n",
    "$$\\hat{y}=\n",
    "\\begin{cases}\n",
    "0,& \\hat{p}<0.5\\\\\n",
    "1,& \\hat{p}>=0.5\\\\\n",
    "\\end{cases}$$\n",
    "Notice that if $\\theta^T\\mathbf{x}$ is positive, then a logistic model would predict 1, vise versa.\n",
    "\n",
    "### 6.2 Training and Cost Function\n",
    "The cost function for a single instance is:\n",
    "$$c(\\theta)=\n",
    "\\begin{cases}\n",
    "-\\log{(\\hat{p})}& y=1\\\\\n",
    "-\\log{(1-\\hat{p})}& y=0\n",
    "\\end{cases}$$\n",
    "This makes sense because if the prediction is wrong, the cost would go ahead to nearly infinity.\n",
    "\n",
    "The cost funciton for all instances is just the average of cost of each instance, given by:\n",
    "$$J(\\theta) = -\\frac{1}{m}\\sum_{i=1}^m [y^{(i)}\\log{\\hat{p}^{(i)}}+(1-y^{(i)})\\log{(1-\\hat{p}^{(i)}})]$$\n",
    "\n",
    "There is no closed-form solution for logistic regression. However, this problem is also convex, meaning that the global minimum could always be fetched by gradient descent if parameters are appropriate.\n",
    "\n",
    "Gradient for each $\\theta_j$ is given by:\n",
    "$$\\frac{\\partial}{\\partial \\theta_j}J(\\theta)=\\frac{1}{m}\\sum_{i=1}^m \\left(\\sigma(\\theta^T \\mathbf{x}^{(i)})-y^{(i)}\\right) x_j^{(i)}$$\n",
    "\n",
    "### 6.3 Decision Boundaries\n",
    "Use the iris dataset to illustrate Logistic Regression. This is a famous dataset that contains the sepal and petal length and width of 150 iris flowers of three different species: Iris-Setosa, Iris-Versicolor, and Iris-Virginica.\n",
    "\n",
    "First train a binary classifer based on only one feature."
   ]
  },
  {
   "cell_type": "code",
   "execution_count": 22,
   "metadata": {},
   "outputs": [
    {
     "name": "stdout",
     "output_type": "stream",
     "text": [
      "['data', 'target', 'target_names', 'DESCR', 'feature_names', 'filename']\n"
     ]
    }
   ],
   "source": [
    "from sklearn import datasets\n",
    "\n",
    "iris = datasets.load_iris()\n",
    "print(list(iris.keys()))\n",
    "X = iris['data'][:,3:]  #petal width \n",
    "y = (iris['target']==2).astype(np.int) #1 if Iris-Virginica, else 0 "
   ]
  },
  {
   "cell_type": "code",
   "execution_count": 23,
   "metadata": {},
   "outputs": [
    {
     "data": {
      "text/plain": [
       "LogisticRegression(C=1.0, class_weight=None, dual=False, fit_intercept=True,\n",
       "                   intercept_scaling=1, l1_ratio=None, max_iter=100,\n",
       "                   multi_class='warn', n_jobs=None, penalty='l2',\n",
       "                   random_state=None, solver='liblinear', tol=0.0001, verbose=0,\n",
       "                   warm_start=False)"
      ]
     },
     "execution_count": 23,
     "metadata": {},
     "output_type": "execute_result"
    }
   ],
   "source": [
    "from sklearn.linear_model import LogisticRegression\n",
    "\n",
    "log_reg = LogisticRegression(solver='liblinear')\n",
    "log_reg.fit(X,y)"
   ]
  },
  {
   "cell_type": "code",
   "execution_count": 24,
   "metadata": {},
   "outputs": [
    {
     "data": {
      "text/plain": [
       "Text([1.66261261], 0.8, '<-- Decision Boundary')"
      ]
     },
     "execution_count": 24,
     "metadata": {},
     "output_type": "execute_result"
    },
    {
     "data": {
      "image/png": "[encoded data removed]",
      "text/plain": [
       "<Figure size 432x288 with 1 Axes>"
      ]
     },
     "metadata": {
      "needs_background": "light"
     },
     "output_type": "display_data"
    }
   ],
   "source": [
    "X_new = np.linspace(0,3,1000).reshape((-1,1))\n",
    "y_proba = log_reg.predict_proba(X_new)\n",
    "\n",
    "fig3,ax3 = plt.subplots()\n",
    "ax3.plot(X_new,y_proba[:,1],'g-', label='Iris-Virginica')\n",
    "ax3.plot(X_new,y_proba[:,0],'b--', label='Not Iris-Virginica')\n",
    "ax3.legend(bbox_to_anchor=(0.4,0.7))\n",
    "ax3.set_xlabel('Petal Width (cm)')\n",
    "ax3.set_ylabel('Probability')\n",
    "ax3.scatter(np.array(X[np.where(y==1)]),[1 for i in range(np.sum(y))],c='g',marker='^',s=10)\n",
    "ax3.scatter(np.array(X[np.where(y==0)]),[0 for i in range(len(y)-np.sum(y))],c='b',marker='s',s=10)\n",
    "\n",
    "decision_index = np.argmin(abs(y_proba[:,0]-y_proba[:,1]))\n",
    "decision_boudary = X_new[decision_index]\n",
    "ax3.plot([decision_boudary,decision_boudary],[0,1],'k:')\n",
    "plt.text(decision_boudary+0.05,0.8,'<-- Decision Boundary')"
   ]
  },
  {
   "cell_type": "markdown",
   "metadata": {},
   "source": [
    "Just like the other linear models, Logistic Regression models can be regularized using $\\ell_1$ or $\\ell_2$ penalties. Scitkit-Learn actually adds an $\\ell_2$ penalty by default. The strength of regularization is controlled by $C$, smaller $C$ means stronger regularization.\n",
    "\n",
    "### 6.4 Softmax Regression\n",
    "The Logistic Regression model can be generalized to support multiple classes directly, without having to train and combine multiple binary classifiers. This is called Softmax Regression, or Multinomial Logistic Regression.\n",
    "\n",
    "When given an instance $\\mathbf{x}$, the Softmax Regression model first computes a score $s_k(\\mathbf{x})$ for each class k, then estimates the probability of each class by applying the softmax function (also called the normalized exponential) to the scores.\n",
    "$$s_k(\\mathbf{x})=\\theta_k^T\\mathbf{x}$$\n",
    "\n",
    "Note that each $\\theta_k$ is a column vector of class k. All $\\theta_k$ constitude a parameter matrix $\\Theta$, with each row corresponding to one $\\theta_k$. The probability $\\hat{p}_k$ that the instance belongs to class k is given by:\n",
    "$$\\hat{p}_k=\\sigma(\\mathbf{s(x)})_k=\\frac{exp(s_k(\\mathbf{x}))}{\\sum_{j=1}^K exp(s_j(\\mathbf{x}))}$$\n",
    "where $K$ is number of classes.\n",
    "\n",
    "Then the class with the highest probability is:\n",
    "$$\\hat{y}=argmax_k\\{ \\sigma(\\mathbf{s(x)})_k\\} = argmax_k \\{s_k(\\mathbf{x})\\} = argmax_k \\{\\theta_k^T\\mathbf{x}\\}$$\n",
    "\n",
    "The cost function is called cross entropy, inside which $y_k^{(i)}$ is 1 if prediction of instance $i$ equals to $k$, otherwise it is zero.\n",
    "$$J(\\Theta)=-\\frac{1}{m}\\sum_{i=1}^m\\sum_{k=1}^K y_k^{(i)}\\log \\hat{p}_k^{(i)}$$\n",
    "\n",
    "If $K=2$, then this function is just the same as the cost function for logistic regression.\n",
    "\n",
    "Gradient vector for each $\\theta_k$ is:\n",
    "$$\\nabla_{\\theta_k}J(\\Theta)=\\frac{1}{m}\\sum_{i=1}^m \\left(\\hat{p}_k^{(i)}-y_k^{(i)}\\right)\\mathbf{x}^{(i)}$$\n",
    "\n",
    "Let's classify iris flowers into three classes."
   ]
  },
  {
   "cell_type": "code",
   "execution_count": 25,
   "metadata": {},
   "outputs": [
    {
     "name": "stdout",
     "output_type": "stream",
     "text": [
      "[2]\n",
      "[[6.38014896e-07 5.74929995e-02 9.42506362e-01]]\n"
     ]
    }
   ],
   "source": [
    "X = iris['data'][:,2:4] #petal length, petal width\n",
    "y = iris['target']\n",
    "\n",
    "softmax_reg = LogisticRegression(multi_class='multinomial',solver='lbfgs',C=10)\n",
    "softmax_reg.fit(X,y)\n",
    "print(softmax_reg.predict([[5,2]]))\n",
    "print(softmax_reg.predict_proba([[5,2]]))"
   ]
  },
  {
   "cell_type": "code",
   "execution_count": null,
   "metadata": {},
   "outputs": [],
   "source": []
  }
 ],
 "metadata": {
  "kernelspec": {
   "display_name": "Python 3",
   "language": "python",
   "name": "python3"
  },
  "language_info": {
   "codemirror_mode": {
    "name": "ipython",
    "version": 3
   },
   "file_extension": ".py",
   "mimetype": "text/x-python",
   "name": "python",
   "nbconvert_exporter": "python",
   "pygments_lexer": "ipython3",
   "version": "3.7.4"
  }
 },
 "nbformat": 4,
 "nbformat_minor": 2
}
